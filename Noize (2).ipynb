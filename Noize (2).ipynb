{
 "cells": [
  {
   "cell_type": "code",
   "execution_count": null,
   "metadata": {},
   "outputs": [],
   "source": []
  },
  {
   "cell_type": "code",
   "execution_count": 1,
   "metadata": {},
   "outputs": [],
   "source": [
    "import random as rnd\n",
    "\n",
    "def get_rand_symbol():\n",
    "    return chr(rnd.randint(33, 126))\n",
    "\n",
    "INSERT_PROB = 0.01\n",
    "def insert_symbol(word):\n",
    "    if rnd.random() < INSERT_PROB:\n",
    "        index = rnd.randint(0, len(word) - 1)\n",
    "        return word[:index] + get_rand_symbol() + word[index:]\n",
    "    else:\n",
    "        return word\n",
    "\n",
    "DELETE_PROB = 0.01\n",
    "def delete_symbol(word):\n",
    "    if rnd.random() < DELETE_PROB:\n",
    "        index = rnd.randint(0, len(word) - 1)\n",
    "        return word[:index] + word[index + 1:]\n",
    "    else:\n",
    "        return word\n",
    "\n",
    "REPLACE_PROB = 0.02\n",
    "def replace_symbol(word):\n",
    "    if rnd.random() < REPLACE_PROB:\n",
    "        index = rnd.randint(0, len(word) - 1)\n",
    "        return word[:index] + get_rand_symbol() + word[index + 1:]\n",
    "    else:\n",
    "        return word\n",
    "\n",
    "CHANGES_COUNT = 3\n",
    "def noize_word(word):\n",
    "    result = word\n",
    "\n",
    "    for i in range(CHANGES_COUNT):\n",
    "        result = insert_symbol(result)\n",
    "        result = replace_symbol(result)\n",
    "        result = delete_symbol(result)\n",
    "    return result\n",
    "\n",
    "ABBR_PROB = 0.4\n",
    "DOT_PROB = 0.7\n",
    "def abbr_word(word):\n",
    "    if rnd.random() < ABBR_PROB:\n",
    "        i = rnd.randint(3, 7)\n",
    "        i = min(i, len(word))\n",
    "        result = word[:i]\n",
    "        if rnd.random() < DOT_PROB:\n",
    "            result = result + '.'\n",
    "        return result\n",
    "    else:\n",
    "        return word\n",
    "\n",
    "def make_noize(words, with_abbr = True):\n",
    "    return [abbr_word(noize_word(w)) for w in words]"
   ]
  },
  {
   "cell_type": "code",
   "execution_count": 2,
   "metadata": {},
   "outputs": [
    {
     "data": {
      "text/plain": [
       "'I'"
      ]
     },
     "execution_count": 2,
     "metadata": {},
     "output_type": "execute_result"
    }
   ],
   "source": [
    "get_rand_symbol()"
   ]
  },
  {
   "cell_type": "code",
   "execution_count": 31,
   "metadata": {},
   "outputs": [
    {
     "data": {
      "text/plain": [
       "['Воздуховод', 'Спиральный', '46cm', 'XXL.']"
      ]
     },
     "execution_count": 31,
     "metadata": {},
     "output_type": "execute_result"
    }
   ],
   "source": [
    "make_noize(['Воздуховод', 'Спиральный', '46cm', 'XXL'])"
   ]
  },
  {
   "cell_type": "code",
   "execution_count": null,
   "metadata": {},
   "outputs": [],
   "source": []
  },
  {
   "cell_type": "code",
   "execution_count": null,
   "metadata": {},
   "outputs": [],
   "source": []
  }
 ],
 "metadata": {
  "kernelspec": {
   "display_name": "Python 3",
   "language": "python",
   "name": "python3"
  },
  "language_info": {
   "codemirror_mode": {
    "name": "ipython",
    "version": 3
   },
   "file_extension": ".py",
   "mimetype": "text/x-python",
   "name": "python",
   "nbconvert_exporter": "python",
   "pygments_lexer": "ipython3",
   "version": "3.6.8"
  }
 },
 "nbformat": 4,
 "nbformat_minor": 2
}
